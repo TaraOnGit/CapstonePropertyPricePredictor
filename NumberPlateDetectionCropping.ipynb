{
  "nbformat": 4,
  "nbformat_minor": 0,
  "metadata": {
    "colab": {
      "provenance": [],
      "gpuType": "T4",
      "include_colab_link": true
    },
    "kernelspec": {
      "name": "python3",
      "display_name": "Python 3"
    },
    "language_info": {
      "name": "python"
    },
    "accelerator": "GPU"
  },
  "cells": [
    {
      "cell_type": "markdown",
      "metadata": {
        "id": "view-in-github",
        "colab_type": "text"
      },
      "source": [
        "<a href=\"https://colab.research.google.com/github/TaraOnGit/CapstonePropertyPricePredictor/blob/master/NumberPlateDetectionCropping.ipynb\" target=\"_parent\"><img src=\"https://colab.research.google.com/assets/colab-badge.svg\" alt=\"Open In Colab\"/></a>"
      ]
    },
    {
      "cell_type": "markdown",
      "source": [
        "#**Greetings!**"
      ],
      "metadata": {
        "id": "6yLWbu_v_ElI"
      }
    },
    {
      "cell_type": "code",
      "source": [
        "!pip install keras"
      ],
      "metadata": {
        "colab": {
          "base_uri": "https://localhost:8080/"
        },
        "id": "IZAw8YYhHVJv",
        "outputId": "437761f0-0c5f-4737-ad60-5fc08759f41b"
      },
      "execution_count": 1,
      "outputs": [
        {
          "output_type": "stream",
          "name": "stdout",
          "text": [
            "Requirement already satisfied: keras in /usr/local/lib/python3.11/dist-packages (3.8.0)\n",
            "Requirement already satisfied: absl-py in /usr/local/lib/python3.11/dist-packages (from keras) (1.4.0)\n",
            "Requirement already satisfied: numpy in /usr/local/lib/python3.11/dist-packages (from keras) (1.26.4)\n",
            "Requirement already satisfied: rich in /usr/local/lib/python3.11/dist-packages (from keras) (13.9.4)\n",
            "Requirement already satisfied: namex in /usr/local/lib/python3.11/dist-packages (from keras) (0.0.8)\n",
            "Requirement already satisfied: h5py in /usr/local/lib/python3.11/dist-packages (from keras) (3.12.1)\n",
            "Requirement already satisfied: optree in /usr/local/lib/python3.11/dist-packages (from keras) (0.14.1)\n",
            "Requirement already satisfied: ml-dtypes in /usr/local/lib/python3.11/dist-packages (from keras) (0.4.1)\n",
            "Requirement already satisfied: packaging in /usr/local/lib/python3.11/dist-packages (from keras) (24.2)\n",
            "Requirement already satisfied: typing-extensions>=4.5.0 in /usr/local/lib/python3.11/dist-packages (from optree->keras) (4.12.2)\n",
            "Requirement already satisfied: markdown-it-py>=2.2.0 in /usr/local/lib/python3.11/dist-packages (from rich->keras) (3.0.0)\n",
            "Requirement already satisfied: pygments<3.0.0,>=2.13.0 in /usr/local/lib/python3.11/dist-packages (from rich->keras) (2.18.0)\n",
            "Requirement already satisfied: mdurl~=0.1 in /usr/local/lib/python3.11/dist-packages (from markdown-it-py>=2.2.0->rich->keras) (0.1.2)\n"
          ]
        }
      ]
    },
    {
      "cell_type": "markdown",
      "source": [
        "#**Importing Libraries**"
      ],
      "metadata": {
        "id": "iJ4-7renMxV2"
      }
    },
    {
      "cell_type": "code",
      "execution_count": 2,
      "metadata": {
        "id": "EKQETiaiGQX-"
      },
      "outputs": [],
      "source": [
        "import numpy as np\n",
        "import pandas as pd\n",
        "import matplotlib.pyplot as plt\n",
        "import seaborn as sns\n",
        "\n",
        "from keras.models import Sequential\n",
        "from keras.layers import Dropout, Flatten, Conv2D, MaxPooling2D, Dense\n",
        "\n",
        "import cv2 #OpenCV Library\n",
        "import os #\n",
        "import glob #helps in finding matching file paths"
      ]
    },
    {
      "cell_type": "markdown",
      "source": [
        "1. Dropout acts as Regularization Technique and Avoids Overfitting\n",
        "2. Flatten - Flattens data into 1D array\n",
        "3. Conv2D - Applies 2D Convolution Filter\n",
        "4. MaxPooling2d - Reduces Dimensions by Downsampling\n",
        "5. Dense - Fully Connected Layer"
      ],
      "metadata": {
        "id": "H4Q4_oqxfbGv"
      }
    },
    {
      "cell_type": "markdown",
      "source": [
        "#**Working with Data (Vehicle Images)**\n",
        "##**Extracting the Zip File Content**"
      ],
      "metadata": {
        "id": "GPMYwWkPM8Tn"
      }
    },
    {
      "cell_type": "code",
      "source": [
        "import zipfile\n",
        "zip_file = '/content/Licplatesdetection_train.zip'\n",
        "extract_folder = 'lpd_images'\n",
        "\n",
        "if not os.path.exists(extract_folder):\n",
        "    os.makedirs(extract_folder)\n",
        "\n",
        "with zipfile.ZipFile(zip_file, 'r') as zip_ref:\n",
        "    zip_ref.extractall(extract_folder)"
      ],
      "metadata": {
        "id": "WF40mOPaJ8yI"
      },
      "execution_count": 3,
      "outputs": []
    },
    {
      "cell_type": "markdown",
      "source": [
        "#**Fetching the Individual Image Files from the Folder**"
      ],
      "metadata": {
        "id": "DvfftEzbNG9H"
      }
    },
    {
      "cell_type": "code",
      "source": [
        "img_dir = \"/content/lpd_images/license_plates_detection_train\"\n",
        "data_path = os.path.join(img_dir,\"*g\")\n",
        "files = glob.glob(data_path)"
      ],
      "metadata": {
        "id": "ZwGNFJIkHkB9"
      },
      "execution_count": 4,
      "outputs": []
    },
    {
      "cell_type": "code",
      "source": [
        "files.sort()\n",
        "#files"
      ],
      "metadata": {
        "id": "pINeFlvRIgVx"
      },
      "execution_count": 5,
      "outputs": []
    },
    {
      "cell_type": "code",
      "source": [
        "\n",
        "X = [] # To store input images\n",
        "\n",
        "for file in files:  #Loop through image files\n",
        "  img = cv2.imread(file)  # Read the image file\n",
        "  img = cv2.resize(img, (244,244))   # Resizing all image files to same size\n",
        "  X.append(img) # Appending image file data to X"
      ],
      "metadata": {
        "id": "nGBOGvDnIoxV"
      },
      "execution_count": 6,
      "outputs": []
    },
    {
      "cell_type": "markdown",
      "source": [
        "#**Reading the Boundary Box Values**"
      ],
      "metadata": {
        "id": "B1QYvLaPPPbq"
      }
    },
    {
      "cell_type": "code",
      "source": [
        "df = pd.read_csv('/content/Licplatesdetection_train.csv')\n",
        "df.head(2)"
      ],
      "metadata": {
        "colab": {
          "base_uri": "https://localhost:8080/",
          "height": 112
        },
        "id": "aLQdF5r7OlSI",
        "outputId": "7b8b157b-aad1-40f8-889e-12cea6b3259d"
      },
      "execution_count": 7,
      "outputs": [
        {
          "output_type": "execute_result",
          "data": {
            "text/plain": [
              "   img_id  ymin  xmin  ymax  xmax\n",
              "0   1.jpg   276    94   326   169\n",
              "1  10.jpg   311   395   344   444"
            ],
            "text/html": [
              "\n",
              "  <div id=\"df-e3da66eb-57f0-45ef-9df9-0d3a52bd90c4\" class=\"colab-df-container\">\n",
              "    <div>\n",
              "<style scoped>\n",
              "    .dataframe tbody tr th:only-of-type {\n",
              "        vertical-align: middle;\n",
              "    }\n",
              "\n",
              "    .dataframe tbody tr th {\n",
              "        vertical-align: top;\n",
              "    }\n",
              "\n",
              "    .dataframe thead th {\n",
              "        text-align: right;\n",
              "    }\n",
              "</style>\n",
              "<table border=\"1\" class=\"dataframe\">\n",
              "  <thead>\n",
              "    <tr style=\"text-align: right;\">\n",
              "      <th></th>\n",
              "      <th>img_id</th>\n",
              "      <th>ymin</th>\n",
              "      <th>xmin</th>\n",
              "      <th>ymax</th>\n",
              "      <th>xmax</th>\n",
              "    </tr>\n",
              "  </thead>\n",
              "  <tbody>\n",
              "    <tr>\n",
              "      <th>0</th>\n",
              "      <td>1.jpg</td>\n",
              "      <td>276</td>\n",
              "      <td>94</td>\n",
              "      <td>326</td>\n",
              "      <td>169</td>\n",
              "    </tr>\n",
              "    <tr>\n",
              "      <th>1</th>\n",
              "      <td>10.jpg</td>\n",
              "      <td>311</td>\n",
              "      <td>395</td>\n",
              "      <td>344</td>\n",
              "      <td>444</td>\n",
              "    </tr>\n",
              "  </tbody>\n",
              "</table>\n",
              "</div>\n",
              "    <div class=\"colab-df-buttons\">\n",
              "\n",
              "  <div class=\"colab-df-container\">\n",
              "    <button class=\"colab-df-convert\" onclick=\"convertToInteractive('df-e3da66eb-57f0-45ef-9df9-0d3a52bd90c4')\"\n",
              "            title=\"Convert this dataframe to an interactive table.\"\n",
              "            style=\"display:none;\">\n",
              "\n",
              "  <svg xmlns=\"http://www.w3.org/2000/svg\" height=\"24px\" viewBox=\"0 -960 960 960\">\n",
              "    <path d=\"M120-120v-720h720v720H120Zm60-500h600v-160H180v160Zm220 220h160v-160H400v160Zm0 220h160v-160H400v160ZM180-400h160v-160H180v160Zm440 0h160v-160H620v160ZM180-180h160v-160H180v160Zm440 0h160v-160H620v160Z\"/>\n",
              "  </svg>\n",
              "    </button>\n",
              "\n",
              "  <style>\n",
              "    .colab-df-container {\n",
              "      display:flex;\n",
              "      gap: 12px;\n",
              "    }\n",
              "\n",
              "    .colab-df-convert {\n",
              "      background-color: #E8F0FE;\n",
              "      border: none;\n",
              "      border-radius: 50%;\n",
              "      cursor: pointer;\n",
              "      display: none;\n",
              "      fill: #1967D2;\n",
              "      height: 32px;\n",
              "      padding: 0 0 0 0;\n",
              "      width: 32px;\n",
              "    }\n",
              "\n",
              "    .colab-df-convert:hover {\n",
              "      background-color: #E2EBFA;\n",
              "      box-shadow: 0px 1px 2px rgba(60, 64, 67, 0.3), 0px 1px 3px 1px rgba(60, 64, 67, 0.15);\n",
              "      fill: #174EA6;\n",
              "    }\n",
              "\n",
              "    .colab-df-buttons div {\n",
              "      margin-bottom: 4px;\n",
              "    }\n",
              "\n",
              "    [theme=dark] .colab-df-convert {\n",
              "      background-color: #3B4455;\n",
              "      fill: #D2E3FC;\n",
              "    }\n",
              "\n",
              "    [theme=dark] .colab-df-convert:hover {\n",
              "      background-color: #434B5C;\n",
              "      box-shadow: 0px 1px 3px 1px rgba(0, 0, 0, 0.15);\n",
              "      filter: drop-shadow(0px 1px 2px rgba(0, 0, 0, 0.3));\n",
              "      fill: #FFFFFF;\n",
              "    }\n",
              "  </style>\n",
              "\n",
              "    <script>\n",
              "      const buttonEl =\n",
              "        document.querySelector('#df-e3da66eb-57f0-45ef-9df9-0d3a52bd90c4 button.colab-df-convert');\n",
              "      buttonEl.style.display =\n",
              "        google.colab.kernel.accessAllowed ? 'block' : 'none';\n",
              "\n",
              "      async function convertToInteractive(key) {\n",
              "        const element = document.querySelector('#df-e3da66eb-57f0-45ef-9df9-0d3a52bd90c4');\n",
              "        const dataTable =\n",
              "          await google.colab.kernel.invokeFunction('convertToInteractive',\n",
              "                                                    [key], {});\n",
              "        if (!dataTable) return;\n",
              "\n",
              "        const docLinkHtml = 'Like what you see? Visit the ' +\n",
              "          '<a target=\"_blank\" href=https://colab.research.google.com/notebooks/data_table.ipynb>data table notebook</a>'\n",
              "          + ' to learn more about interactive tables.';\n",
              "        element.innerHTML = '';\n",
              "        dataTable['output_type'] = 'display_data';\n",
              "        await google.colab.output.renderOutput(dataTable, element);\n",
              "        const docLink = document.createElement('div');\n",
              "        docLink.innerHTML = docLinkHtml;\n",
              "        element.appendChild(docLink);\n",
              "      }\n",
              "    </script>\n",
              "  </div>\n",
              "\n",
              "\n",
              "<div id=\"df-8bcd3deb-7629-496a-8e1b-b67d1edd5d2b\">\n",
              "  <button class=\"colab-df-quickchart\" onclick=\"quickchart('df-8bcd3deb-7629-496a-8e1b-b67d1edd5d2b')\"\n",
              "            title=\"Suggest charts\"\n",
              "            style=\"display:none;\">\n",
              "\n",
              "<svg xmlns=\"http://www.w3.org/2000/svg\" height=\"24px\"viewBox=\"0 0 24 24\"\n",
              "     width=\"24px\">\n",
              "    <g>\n",
              "        <path d=\"M19 3H5c-1.1 0-2 .9-2 2v14c0 1.1.9 2 2 2h14c1.1 0 2-.9 2-2V5c0-1.1-.9-2-2-2zM9 17H7v-7h2v7zm4 0h-2V7h2v10zm4 0h-2v-4h2v4z\"/>\n",
              "    </g>\n",
              "</svg>\n",
              "  </button>\n",
              "\n",
              "<style>\n",
              "  .colab-df-quickchart {\n",
              "      --bg-color: #E8F0FE;\n",
              "      --fill-color: #1967D2;\n",
              "      --hover-bg-color: #E2EBFA;\n",
              "      --hover-fill-color: #174EA6;\n",
              "      --disabled-fill-color: #AAA;\n",
              "      --disabled-bg-color: #DDD;\n",
              "  }\n",
              "\n",
              "  [theme=dark] .colab-df-quickchart {\n",
              "      --bg-color: #3B4455;\n",
              "      --fill-color: #D2E3FC;\n",
              "      --hover-bg-color: #434B5C;\n",
              "      --hover-fill-color: #FFFFFF;\n",
              "      --disabled-bg-color: #3B4455;\n",
              "      --disabled-fill-color: #666;\n",
              "  }\n",
              "\n",
              "  .colab-df-quickchart {\n",
              "    background-color: var(--bg-color);\n",
              "    border: none;\n",
              "    border-radius: 50%;\n",
              "    cursor: pointer;\n",
              "    display: none;\n",
              "    fill: var(--fill-color);\n",
              "    height: 32px;\n",
              "    padding: 0;\n",
              "    width: 32px;\n",
              "  }\n",
              "\n",
              "  .colab-df-quickchart:hover {\n",
              "    background-color: var(--hover-bg-color);\n",
              "    box-shadow: 0 1px 2px rgba(60, 64, 67, 0.3), 0 1px 3px 1px rgba(60, 64, 67, 0.15);\n",
              "    fill: var(--button-hover-fill-color);\n",
              "  }\n",
              "\n",
              "  .colab-df-quickchart-complete:disabled,\n",
              "  .colab-df-quickchart-complete:disabled:hover {\n",
              "    background-color: var(--disabled-bg-color);\n",
              "    fill: var(--disabled-fill-color);\n",
              "    box-shadow: none;\n",
              "  }\n",
              "\n",
              "  .colab-df-spinner {\n",
              "    border: 2px solid var(--fill-color);\n",
              "    border-color: transparent;\n",
              "    border-bottom-color: var(--fill-color);\n",
              "    animation:\n",
              "      spin 1s steps(1) infinite;\n",
              "  }\n",
              "\n",
              "  @keyframes spin {\n",
              "    0% {\n",
              "      border-color: transparent;\n",
              "      border-bottom-color: var(--fill-color);\n",
              "      border-left-color: var(--fill-color);\n",
              "    }\n",
              "    20% {\n",
              "      border-color: transparent;\n",
              "      border-left-color: var(--fill-color);\n",
              "      border-top-color: var(--fill-color);\n",
              "    }\n",
              "    30% {\n",
              "      border-color: transparent;\n",
              "      border-left-color: var(--fill-color);\n",
              "      border-top-color: var(--fill-color);\n",
              "      border-right-color: var(--fill-color);\n",
              "    }\n",
              "    40% {\n",
              "      border-color: transparent;\n",
              "      border-right-color: var(--fill-color);\n",
              "      border-top-color: var(--fill-color);\n",
              "    }\n",
              "    60% {\n",
              "      border-color: transparent;\n",
              "      border-right-color: var(--fill-color);\n",
              "    }\n",
              "    80% {\n",
              "      border-color: transparent;\n",
              "      border-right-color: var(--fill-color);\n",
              "      border-bottom-color: var(--fill-color);\n",
              "    }\n",
              "    90% {\n",
              "      border-color: transparent;\n",
              "      border-bottom-color: var(--fill-color);\n",
              "    }\n",
              "  }\n",
              "</style>\n",
              "\n",
              "  <script>\n",
              "    async function quickchart(key) {\n",
              "      const quickchartButtonEl =\n",
              "        document.querySelector('#' + key + ' button');\n",
              "      quickchartButtonEl.disabled = true;  // To prevent multiple clicks.\n",
              "      quickchartButtonEl.classList.add('colab-df-spinner');\n",
              "      try {\n",
              "        const charts = await google.colab.kernel.invokeFunction(\n",
              "            'suggestCharts', [key], {});\n",
              "      } catch (error) {\n",
              "        console.error('Error during call to suggestCharts:', error);\n",
              "      }\n",
              "      quickchartButtonEl.classList.remove('colab-df-spinner');\n",
              "      quickchartButtonEl.classList.add('colab-df-quickchart-complete');\n",
              "    }\n",
              "    (() => {\n",
              "      let quickchartButtonEl =\n",
              "        document.querySelector('#df-8bcd3deb-7629-496a-8e1b-b67d1edd5d2b button');\n",
              "      quickchartButtonEl.style.display =\n",
              "        google.colab.kernel.accessAllowed ? 'block' : 'none';\n",
              "    })();\n",
              "  </script>\n",
              "</div>\n",
              "\n",
              "    </div>\n",
              "  </div>\n"
            ],
            "application/vnd.google.colaboratory.intrinsic+json": {
              "type": "dataframe",
              "variable_name": "df",
              "summary": "{\n  \"name\": \"df\",\n  \"rows\": 900,\n  \"fields\": [\n    {\n      \"column\": \"img_id\",\n      \"properties\": {\n        \"dtype\": \"string\",\n        \"num_unique_values\": 900,\n        \"samples\": [\n          \"162.jpg\",\n          \"844.jpg\",\n          \"307.jpg\"\n        ],\n        \"semantic_type\": \"\",\n        \"description\": \"\"\n      }\n    },\n    {\n      \"column\": \"ymin\",\n      \"properties\": {\n        \"dtype\": \"number\",\n        \"std\": 75,\n        \"min\": 14,\n        \"max\": 525,\n        \"num_unique_values\": 293,\n        \"samples\": [\n          396,\n          358,\n          261\n        ],\n        \"semantic_type\": \"\",\n        \"description\": \"\"\n      }\n    },\n    {\n      \"column\": \"xmin\",\n      \"properties\": {\n        \"dtype\": \"number\",\n        \"std\": 142,\n        \"min\": 1,\n        \"max\": 698,\n        \"num_unique_values\": 412,\n        \"samples\": [\n          542,\n          316,\n          608\n        ],\n        \"semantic_type\": \"\",\n        \"description\": \"\"\n      }\n    },\n    {\n      \"column\": \"ymax\",\n      \"properties\": {\n        \"dtype\": \"number\",\n        \"std\": 71,\n        \"min\": 121,\n        \"max\": 547,\n        \"num_unique_values\": 286,\n        \"samples\": [\n          425,\n          287,\n          273\n        ],\n        \"semantic_type\": \"\",\n        \"description\": \"\"\n      }\n    },\n    {\n      \"column\": \"xmax\",\n      \"properties\": {\n        \"dtype\": \"number\",\n        \"std\": 149,\n        \"min\": 84,\n        \"max\": 823,\n        \"num_unique_values\": 413,\n        \"samples\": [\n          136,\n          525,\n          718\n        ],\n        \"semantic_type\": \"\",\n        \"description\": \"\"\n      }\n    }\n  ]\n}"
            }
          },
          "metadata": {},
          "execution_count": 7
        }
      ]
    },
    {
      "cell_type": "code",
      "source": [
        "y = []\n",
        "\n",
        "for index, row in df.iterrows():\n",
        "  img_id = row['img_id']\n",
        "  ymin,xmin,ymax,xmax = row['ymin'], row['xmin'], row['ymax'], row['xmax']\n",
        "  y.append([ymin,xmin,ymax,xmax])\n",
        "\n",
        "#y = np.array(y)"
      ],
      "metadata": {
        "id": "LpwAAy2JPdtC"
      },
      "execution_count": 8,
      "outputs": []
    },
    {
      "cell_type": "markdown",
      "source": [
        "#**Exploring License Plates with CV2**"
      ],
      "metadata": {
        "id": "Cc56duYqRbSY"
      }
    },
    {
      "cell_type": "code",
      "source": [
        "ymin, xmin, ymax, xmax = y[2]\n",
        "\n",
        "img = cv2.imread(files[2])\n",
        "old_height, old_width = img.shape[:2]\n",
        "lic_plate_img = cv2.rectangle(X[2],\n",
        "                              (int(xmin * 244 / old_width), int(ymin *244 / old_height)),  # Top-left corner (xmin, ymin)\n",
        "                              (int(xmax * 244 / old_width), int(ymax * 244 / old_height)),  # Bottom-right corner (xmax, ymax)\n",
        "                              (255, 0, 150), 2)\n",
        "#plt.imshow(lic_plate_img)\n",
        "plt.show()"
      ],
      "metadata": {
        "id": "YsEhsKw-QKcH"
      },
      "execution_count": 9,
      "outputs": []
    },
    {
      "cell_type": "markdown",
      "source": [
        "1. X has images\n",
        "2. y has the coordinates of bounding box of the number/license plate"
      ],
      "metadata": {
        "id": "CA3AU2ICi8Ng"
      }
    },
    {
      "cell_type": "code",
      "source": [
        "top_left = (int(xmin * 244 / old_width), int(ymin * 244 / old_height))\n",
        "bottom_right = (int(xmax * 244 / old_width), int(ymax * 244 / old_height))\n",
        "\n",
        "cropped_img = lic_plate_img[top_left[1]:bottom_right[1], top_left[0]:bottom_right[0]]\n",
        "\n",
        "#plt.imshow(cropped_img)\n",
        "#cropped_img\n",
        "#plt.imshow(cv2.cvtColor(cropped_img, cv2.COLOR_BGR2RGB))\n",
        "#uncomment the above two plt.imshow() to see the images"
      ],
      "metadata": {
        "id": "W81TFvLYaImB"
      },
      "execution_count": 10,
      "outputs": []
    },
    {
      "cell_type": "markdown",
      "source": [
        "#**Normalizing the values of X, so that the model treats them equally**"
      ],
      "metadata": {
        "id": "iIjhsXNBjgSb"
      }
    },
    {
      "cell_type": "code",
      "source": [
        "#Converting X and y to numpy arrays\n",
        "X = np.array(X)\n",
        "y = np.array(y)"
      ],
      "metadata": {
        "id": "hp3uzn5ZStre"
      },
      "execution_count": 11,
      "outputs": []
    },
    {
      "cell_type": "code",
      "source": [
        "X = X / 255\n",
        "y = y // 255"
      ],
      "metadata": {
        "id": "6evjgZnkj1Kz"
      },
      "execution_count": 12,
      "outputs": []
    },
    {
      "cell_type": "code",
      "source": [
        "X[0]"
      ],
      "metadata": {
        "colab": {
          "base_uri": "https://localhost:8080/"
        },
        "id": "Ru-dI4RQ0J_C",
        "outputId": "60df504d-2b98-4536-d9ec-a4ab183dc9fd"
      },
      "execution_count": 13,
      "outputs": [
        {
          "output_type": "execute_result",
          "data": {
            "text/plain": [
              "array([[[0.31764706, 0.3254902 , 0.3254902 ],\n",
              "        [0.38823529, 0.4       , 0.4       ],\n",
              "        [0.18823529, 0.19607843, 0.19607843],\n",
              "        ...,\n",
              "        [1.        , 1.        , 1.        ],\n",
              "        [1.        , 1.        , 1.        ],\n",
              "        [1.        , 1.        , 1.        ]],\n",
              "\n",
              "       [[0.31764706, 0.32941176, 0.32941176],\n",
              "        [0.2745098 , 0.28235294, 0.28235294],\n",
              "        [0.28235294, 0.29019608, 0.29019608],\n",
              "        ...,\n",
              "        [1.        , 1.        , 1.        ],\n",
              "        [1.        , 1.        , 1.        ],\n",
              "        [1.        , 1.        , 1.        ]],\n",
              "\n",
              "       [[0.30980392, 0.31764706, 0.31764706],\n",
              "        [0.22745098, 0.23529412, 0.23529412],\n",
              "        [0.14117647, 0.14901961, 0.14901961],\n",
              "        ...,\n",
              "        [0.99607843, 0.99607843, 0.99607843],\n",
              "        [0.99607843, 0.99607843, 0.99607843],\n",
              "        [0.99607843, 0.99607843, 0.99607843]],\n",
              "\n",
              "       ...,\n",
              "\n",
              "       [[0.54901961, 0.54117647, 0.49803922],\n",
              "        [0.55686275, 0.54901961, 0.50588235],\n",
              "        [0.54509804, 0.5372549 , 0.49411765],\n",
              "        ...,\n",
              "        [0.49803922, 0.56862745, 0.62352941],\n",
              "        [0.52156863, 0.58039216, 0.63529412],\n",
              "        [0.54117647, 0.58431373, 0.64705882]],\n",
              "\n",
              "       [[0.54117647, 0.53333333, 0.49019608],\n",
              "        [0.54509804, 0.5372549 , 0.49411765],\n",
              "        [0.54509804, 0.5372549 , 0.49411765],\n",
              "        ...,\n",
              "        [0.47843137, 0.56470588, 0.64705882],\n",
              "        [0.49019608, 0.57254902, 0.65098039],\n",
              "        [0.50196078, 0.57647059, 0.6627451 ]],\n",
              "\n",
              "       [[0.5372549 , 0.53333333, 0.49019608],\n",
              "        [0.53333333, 0.52941176, 0.48235294],\n",
              "        [0.54117647, 0.5372549 , 0.49019608],\n",
              "        ...,\n",
              "        [0.47058824, 0.56862745, 0.6627451 ],\n",
              "        [0.48235294, 0.57647059, 0.66666667],\n",
              "        [0.4745098 , 0.56470588, 0.65882353]]])"
            ]
          },
          "metadata": {},
          "execution_count": 13
        }
      ]
    },
    {
      "cell_type": "markdown",
      "source": [
        "1. Values have been normalized\n",
        "\n",
        "---\n",
        "\n"
      ],
      "metadata": {
        "id": "-TEUGJm10a3m"
      }
    },
    {
      "cell_type": "markdown",
      "source": [
        "#**Train Test Split**"
      ],
      "metadata": {
        "id": "hExAe2JM0k8M"
      }
    },
    {
      "cell_type": "code",
      "source": [
        "from sklearn.model_selection import train_test_split\n",
        "X_train,X_test,y_train,y_test = train_test_split(X,y,test_size=0.2,random_state=42)\n",
        "X_train,X_val,y_train,y_val = train_test_split(X_train,y_train,test_size=0.2,random_state=42)"
      ],
      "metadata": {
        "id": "NGAEhpyl0NS5"
      },
      "execution_count": 14,
      "outputs": []
    },
    {
      "cell_type": "markdown",
      "source": [
        "#**Model Training - CNN**"
      ],
      "metadata": {
        "id": "gcpujmdH22tA"
      }
    },
    {
      "cell_type": "code",
      "source": [
        "model = Sequential()\n",
        "\n",
        "#1. Feature Extractor\n",
        "#__________________\n",
        "\n",
        "#First Convolutional Layer\n",
        "model.add(Conv2D(64, (3,3), input_shape=(244,244,3), activation='relu'))\n",
        "model.add(MaxPooling2D(pool_size=(2,2)))\n",
        "model.add(Dropout(0.1))\n",
        "\n",
        "#Second Convolutional Layer\n",
        "model.add(Conv2D(32, (3,3), activation='relu'))\n",
        "model.add(MaxPooling2D(pool_size=(2,2)))\n",
        "model.add(Dropout(0.1))\n",
        "\n",
        "#2. Classification (Fully Connected Layer)\n",
        "#__________________\n",
        "\n",
        "model.add(Flatten())\n",
        "model.add(Dense(64, activation='relu'))\n",
        "model.add(Dense(4, activation='sigmoid'))\n",
        "\n",
        "model.compile(loss='categorical_crossentropy', optimizer='adam',metrics=['accuracy'])\n",
        "\n",
        "train = model.fit(X_train,y_train,validation_data=(X_val,y_val),epochs=10,batch_size=32)"
      ],
      "metadata": {
        "colab": {
          "base_uri": "https://localhost:8080/"
        },
        "id": "ahbJ5jj01F1f",
        "outputId": "aaa4f196-c9c0-459c-8271-e8b9ae52f698"
      },
      "execution_count": 18,
      "outputs": [
        {
          "output_type": "stream",
          "name": "stdout",
          "text": [
            "Epoch 1/10\n",
            "\u001b[1m18/18\u001b[0m \u001b[32m━━━━━━━━━━━━━━━━━━━━\u001b[0m\u001b[37m\u001b[0m \u001b[1m6s\u001b[0m 129ms/step - accuracy: 0.5734 - loss: 289.3533 - val_accuracy: 0.7431 - val_loss: 3068.1868\n",
            "Epoch 2/10\n",
            "\u001b[1m18/18\u001b[0m \u001b[32m━━━━━━━━━━━━━━━━━━━━\u001b[0m\u001b[37m\u001b[0m \u001b[1m1s\u001b[0m 73ms/step - accuracy: 0.6466 - loss: 8250.6045 - val_accuracy: 0.7431 - val_loss: 33004.6680\n",
            "Epoch 3/10\n",
            "\u001b[1m18/18\u001b[0m \u001b[32m━━━━━━━━━━━━━━━━━━━━\u001b[0m\u001b[37m\u001b[0m \u001b[1m3s\u001b[0m 74ms/step - accuracy: 0.6731 - loss: 61491.5938 - val_accuracy: 0.7431 - val_loss: 168194.7188\n",
            "Epoch 4/10\n",
            "\u001b[1m18/18\u001b[0m \u001b[32m━━━━━━━━━━━━━━━━━━━━\u001b[0m\u001b[37m\u001b[0m \u001b[1m1s\u001b[0m 73ms/step - accuracy: 0.6514 - loss: 247788.7812 - val_accuracy: 0.7431 - val_loss: 472240.4375\n",
            "Epoch 5/10\n",
            "\u001b[1m18/18\u001b[0m \u001b[32m━━━━━━━━━━━━━━━━━━━━\u001b[0m\u001b[37m\u001b[0m \u001b[1m1s\u001b[0m 72ms/step - accuracy: 0.6568 - loss: 687652.6250 - val_accuracy: 0.7431 - val_loss: 994576.6875\n",
            "Epoch 6/10\n",
            "\u001b[1m18/18\u001b[0m \u001b[32m━━━━━━━━━━━━━━━━━━━━\u001b[0m\u001b[37m\u001b[0m \u001b[1m1s\u001b[0m 71ms/step - accuracy: 0.6585 - loss: 1262990.6250 - val_accuracy: 0.7431 - val_loss: 1740472.5000\n",
            "Epoch 7/10\n",
            "\u001b[1m18/18\u001b[0m \u001b[32m━━━━━━━━━━━━━━━━━━━━\u001b[0m\u001b[37m\u001b[0m \u001b[1m1s\u001b[0m 73ms/step - accuracy: 0.6280 - loss: 2211997.2500 - val_accuracy: 0.7431 - val_loss: 2335163.7500\n",
            "Epoch 8/10\n",
            "\u001b[1m18/18\u001b[0m \u001b[32m━━━━━━━━━━━━━━━━━━━━\u001b[0m\u001b[37m\u001b[0m \u001b[1m1s\u001b[0m 71ms/step - accuracy: 0.7038 - loss: 2749635.2500 - val_accuracy: 0.7431 - val_loss: 2869482.2500\n",
            "Epoch 9/10\n",
            "\u001b[1m18/18\u001b[0m \u001b[32m━━━━━━━━━━━━━━━━━━━━\u001b[0m\u001b[37m\u001b[0m \u001b[1m3s\u001b[0m 74ms/step - accuracy: 0.6657 - loss: 2815740.0000 - val_accuracy: 0.7431 - val_loss: 1426604.0000\n",
            "Epoch 10/10\n",
            "\u001b[1m18/18\u001b[0m \u001b[32m━━━━━━━━━━━━━━━━━━━━\u001b[0m\u001b[37m\u001b[0m \u001b[1m3s\u001b[0m 74ms/step - accuracy: 0.6448 - loss: 1311006.0000 - val_accuracy: 0.7431 - val_loss: 1479778.0000\n"
          ]
        }
      ]
    },
    {
      "cell_type": "markdown",
      "source": [
        "#**Model Evalaution**"
      ],
      "metadata": {
        "id": "SFp4cqvcs5TT"
      }
    },
    {
      "cell_type": "code",
      "source": [
        "scores = model.evaluate(X_test,y_test)"
      ],
      "metadata": {
        "colab": {
          "base_uri": "https://localhost:8080/"
        },
        "id": "nvWkUzwctMao",
        "outputId": "09d92eb8-6fa4-48b7-fc15-ca51fb026676"
      },
      "execution_count": 19,
      "outputs": [
        {
          "output_type": "stream",
          "name": "stdout",
          "text": [
            "\u001b[1m6/6\u001b[0m \u001b[32m━━━━━━━━━━━━━━━━━━━━\u001b[0m\u001b[37m\u001b[0m \u001b[1m0s\u001b[0m 67ms/step - accuracy: 0.6662 - loss: 1383806.8750\n"
          ]
        }
      ]
    },
    {
      "cell_type": "code",
      "source": [
        "scores"
      ],
      "metadata": {
        "colab": {
          "base_uri": "https://localhost:8080/"
        },
        "id": "Pb67S4jItVR7",
        "outputId": "ab200237-b181-412c-f886-293d230f00f6"
      },
      "execution_count": 20,
      "outputs": [
        {
          "output_type": "execute_result",
          "data": {
            "text/plain": [
              "[1413644.125, 0.6555555462837219]"
            ]
          },
          "metadata": {},
          "execution_count": 20
        }
      ]
    },
    {
      "cell_type": "markdown",
      "source": [
        "#**Model Perfroamance**\n",
        "\n",
        "1. The accuracy of model even on training data is very low indicating high bias. Therefore, the model is underfitting. We need to optimize the model's performance.\n",
        "2. The accuracy of model on test data is also very low indicating very high variance. We need to improve on this also."
      ],
      "metadata": {
        "id": "vLhNZOnWQHns"
      }
    },
    {
      "cell_type": "markdown",
      "source": [
        "#**Thank You**"
      ],
      "metadata": {
        "id": "jI-EXF24_gRj"
      }
    },
    {
      "cell_type": "code",
      "source": [],
      "metadata": {
        "id": "o0epcb65jGS2"
      },
      "execution_count": 20,
      "outputs": []
    }
  ]
}